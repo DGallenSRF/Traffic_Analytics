{
 "cells": [
  {
   "cell_type": "markdown",
   "metadata": {},
   "source": [
    "<html>\n",
    "<body bgcolor=\"#E6E6FA\">\n",
    "<h1>Hello world!</h1>\n",
    "<p><a href=\"https://www.w3schools.com\">Visit W3Schools.com!</a></p>\n",
    "</body>\n",
    "</html>"
   ]
  },
  {
   "cell_type": "markdown",
   "metadata": {},
   "source": [
    "<html>\n",
    "<body bgcolor=\"#E6E6FA\">\n",
    "<h1>Hello world!</h1>\n",
    "<p><a href=\"https://www.w3schools.com\">Visit W3Schools.com!</a></p>\n",
    "</body>\n",
    "</html>\n",
    "\n",
    "<DOCTYPE html>\n",
    "<html>\n",
    "<body style=\"background-color:powderblue;\">\n",
    "\n",
    "<h1>This is a heading</h1>\n",
    "<p>This is a paragraph.</p>\n",
    "\n",
    "</body>\n",
    "</html>\n",
    "\n",
    "<style>\n",
    ".city {\n",
    "    background-color: tomato;\n",
    "    color: white;\n",
    "    padding: 10px;\n",
    "} \n",
    "</style>\n",
    "\n",
    "<h2 class=\"city\">London</h2>\n",
    "<p>London is the capital of England.</p>"
   ]
  },
  {
   "cell_type": "code",
   "execution_count": null,
   "metadata": {},
   "outputs": [],
   "source": []
  }
 ],
 "metadata": {
  "kernelspec": {
   "display_name": "Python 3",
   "language": "python",
   "name": "python3"
  },
  "language_info": {
   "codemirror_mode": {
    "name": "ipython",
    "version": 3
   },
   "file_extension": ".py",
   "mimetype": "text/x-python",
   "name": "python",
   "nbconvert_exporter": "python",
   "pygments_lexer": "ipython3",
   "version": "3.6.4"
  }
 },
 "nbformat": 4,
 "nbformat_minor": 2
}
